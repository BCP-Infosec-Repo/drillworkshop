{
 "cells": [
  {
   "cell_type": "markdown",
   "metadata": {
    "deletable": true,
    "editable": true
   },
   "source": [
    "# PyDrill Demonstration\n",
    "This notebook demonstrates how to use the PyDrill module to connect to Apache Drill and query data. The complete documentation for PyDrill can be found at http://pydrill.readthedocs.io\n",
    "\n",
    "The essential steps are:\n",
    "1.  Import the module\n",
    "2.  Open a connection to Drill\n",
    "3.  Execute a query\n",
    "4.  Do something with the results. \n",
    "\n",
    "You will first need to install PyDrill.  This can be done by opening a terminal and typing:\n",
    "```python\n",
    "pip install pydrill\n",
    "```\n",
    "## Step 1:  Import the PyDrill module\n",
    "After you've done this, you will be able to import the PyDrill module."
   ]
  },
  {
   "cell_type": "code",
   "execution_count": 1,
   "metadata": {
    "collapsed": true,
    "deletable": true,
    "editable": true
   },
   "outputs": [],
   "source": [
    "from pydrill.client import PyDrill\n",
    "import pandas as pd\n",
    "import matplotlib.pyplot as plt\n",
    "%matplotlib inline\n",
    "plt.style.use('ggplot')"
   ]
  },
  {
   "cell_type": "markdown",
   "metadata": {
    "deletable": true,
    "editable": true
   },
   "source": [
    "## Step 2:  Open a connection to Drill\n",
    "The next step is to open a connection to Drill.  Once you've opened the connection, you will want to verify that the connection was successfully opened before executing any queries.  PyDrill includes an `is_active()` method for this purpose."
   ]
  },
  {
   "cell_type": "code",
   "execution_count": 2,
   "metadata": {
    "collapsed": false,
    "deletable": true,
    "editable": true
   },
   "outputs": [],
   "source": [
    "#Open a connection to Drill\n",
    "drill = PyDrill(host='localhost', port=8047)\n",
    "\n",
    "#Verify the connection is active, throw an error if not.\n",
    "if not drill.is_active():\n",
    "    raise ImproperlyConfigured('Please run Drill first')"
   ]
  },
  {
   "cell_type": "markdown",
   "metadata": {
    "deletable": true,
    "editable": true
   },
   "source": [
    "## Step 3: Execute a query and get the results\n",
    "The next and final step is to execute a query in Drill.  When you call the `.query()` method, PyDrill returns an iterable object from which you can extract the rows of your results.  You can also get PyDrill to return a pandas DataFrame. "
   ]
  },
  {
   "cell_type": "code",
   "execution_count": 3,
   "metadata": {
    "collapsed": false,
    "deletable": true,
    "editable": true
   },
   "outputs": [
    {
     "name": "stdout",
     "output_type": "stream",
     "text": [
      "{'JobTitle': \"STATE'S ATTORNEY\", 'number': '1', 'avg_salary': '238772.0'}\n",
      "{'JobTitle': 'Police Commissioner', 'number': '1', 'avg_salary': '200000.0'}\n",
      "{'JobTitle': 'Executive Director V', 'number': '1', 'avg_salary': '182500.0'}\n",
      "{'JobTitle': 'MAYOR', 'number': '1', 'avg_salary': '171635.0'}\n",
      "{'JobTitle': 'Executive Director III', 'number': '10', 'avg_salary': '171306.5'}\n",
      "{'JobTitle': 'CITY SOLICITOR', 'number': '1', 'avg_salary': '169800.0'}\n",
      "{'JobTitle': 'DIRECTOR PUBLIC WORKS', 'number': '1', 'avg_salary': '169800.0'}\n",
      "{'JobTitle': 'CITY AUDITOR', 'number': '1', 'avg_salary': '163000.0'}\n",
      "{'JobTitle': 'Deputy Police Commissioner', 'number': '2', 'avg_salary': '154900.0'}\n",
      "{'JobTitle': 'Executive Director I', 'number': '4', 'avg_salary': '153905.0'}\n",
      "{'JobTitle': 'Executive Director IV', 'number': '4', 'avg_salary': '149825.0'}\n",
      "{'JobTitle': 'Assistant Fire Chief', 'number': '3', 'avg_salary': '146500.0'}\n",
      "{'JobTitle': 'Chief of Utility Finances', 'number': '1', 'avg_salary': '140800.0'}\n",
      "{'JobTitle': 'Police Colonel', 'number': '3', 'avg_salary': '138200.0'}\n",
      "{'JobTitle': 'Executive Director II', 'number': '4', 'avg_salary': '136850.0'}\n",
      "{'JobTitle': 'WWW Chief of Engineering', 'number': '1', 'avg_salary': '135000.0'}\n",
      "{'JobTitle': 'SHERIFF', 'number': '1', 'avg_salary': '132600.0'}\n",
      "{'JobTitle': 'WWW Division  Manager I', 'number': '1', 'avg_salary': '132600.0'}\n",
      "{'JobTitle': 'Operations Director II', 'number': '9', 'avg_salary': '131915.77777777778'}\n",
      "{'JobTitle': 'Operations Director I', 'number': '11', 'avg_salary': '131305.45454545456'}\n",
      "{'JobTitle': 'Deputy Fire Chief', 'number': '9', 'avg_salary': '130748.33333333333'}\n",
      "{'JobTitle': 'Police Lieutenant Colonel', 'number': '4', 'avg_salary': '130500.0'}\n",
      "{'JobTitle': 'Police Major', 'number': '16', 'avg_salary': '123900.0'}\n",
      "{'JobTitle': 'Deputy City Auditor', 'number': '1', 'avg_salary': '122700.0'}\n",
      "{'JobTitle': 'FINANCE PROJECT MANAGER', 'number': '1', 'avg_salary': '121700.0'}\n",
      "{'JobTitle': 'Operations Manager III', 'number': '11', 'avg_salary': '121591.81818181818'}\n",
      "{'JobTitle': 'IT Division Manager', 'number': '5', 'avg_salary': '121590.0'}\n",
      "{'JobTitle': 'DIRECTOR LEGISLATIVE REFERENCE', 'number': '1', 'avg_salary': '120841.0'}\n",
      "{'JobTitle': 'DIRECTOR, PUBLIC PROGRAM', 'number': '1', 'avg_salary': '120700.0'}\n",
      "{'JobTitle': 'PUBLIC HEALTH PHYSICIAN', 'number': '1', 'avg_salary': '120400.0'}\n",
      "{'JobTitle': 'Director, Automated Traffic Vi', 'number': '1', 'avg_salary': '120000.0'}\n",
      "{'JobTitle': 'MASTER', 'number': '3', 'avg_salary': '119916.0'}\n",
      "{'JobTitle': 'WWW Division Manager II', 'number': '5', 'avg_salary': '118920.0'}\n",
      "{'JobTitle': 'Police Captain', 'number': '17', 'avg_salary': '117200.0'}\n",
      "{'JobTitle': 'Operations Manager II', 'number': '45', 'avg_salary': '116928.02222222222'}\n",
      "{'JobTitle': 'LATENT PRINT EXAMINER SUPV', 'number': '1', 'avg_salary': '113700.0'}\n",
      "{'JobTitle': 'PRESIDENT CITY COUNCIL', 'number': '1', 'avg_salary': '113649.0'}\n",
      "{'JobTitle': 'COMPTROLLER', 'number': '1', 'avg_salary': '113649.0'}\n",
      "{'JobTitle': 'Battalion Fire Chief Suppress', 'number': '25', 'avg_salary': '110851.08'}\n",
      "{'JobTitle': 'Battalion Fire Chief, ALS Supp', 'number': '4', 'avg_salary': '110289.75'}\n",
      "{'JobTitle': 'PROGRAM MANAGER IV SHERIFF', 'number': '1', 'avg_salary': '109968.0'}\n",
      "{'JobTitle': 'DIRECTOR COUNCIL SERVICES', 'number': '1', 'avg_salary': '109000.0'}\n",
      "{'JobTitle': 'GENERAL COUNSEL', 'number': '4', 'avg_salary': '108637.0'}\n",
      "{'JobTitle': 'Operations Manager I', 'number': '46', 'avg_salary': '107725.56521739131'}\n",
      "{'JobTitle': 'POLICE LIEUTENANT EID', 'number': '51', 'avg_salary': '107615.94117647059'}\n",
      "{'JobTitle': 'POLICE LIEUTENANT', 'number': '55', 'avg_salary': '106699.18181818182'}\n",
      "{'JobTitle': 'DIRECTOR ORAL HEALTH SERVICES', 'number': '1', 'avg_salary': '105800.0'}\n",
      "{'JobTitle': 'Battalion Fire Chief EMS EMT-P', 'number': '6', 'avg_salary': '105033.5'}\n",
      "{'JobTitle': \"CHIEF STATE'S ATTORNEY\", 'number': '47', 'avg_salary': '104826.74468085106'}\n",
      "{'JobTitle': 'CHIEF SOLICITOR', 'number': '18', 'avg_salary': '104681.88888888889'}\n"
     ]
    }
   ],
   "source": [
    "#Execute query in Drill\n",
    "query_result = drill.query('''\n",
    "SELECT JobTitle, \n",
    "AVG( TO_NUMBER( AnnualSalary, '¤' )) AS avg_salary, \n",
    "COUNT( DISTINCT `EmpName` ) AS number\n",
    "FROM dfs.drillclass.`baltimore_salaries_2016.csvh`\n",
    "GROUP BY JobTitle\n",
    "Order BY avg_salary DESC\n",
    "LIMIT 50\n",
    "''')\n",
    "\n",
    "#Iterate through the rows.\n",
    "for row in query_result:\n",
    "    print( row )"
   ]
  },
  {
   "cell_type": "markdown",
   "metadata": {
    "collapsed": false,
    "deletable": true,
    "editable": true
   },
   "source": [
    "### Retrieving a DataFrame\n",
    "You can also get PyDrill to directly return a DataFrame by using the `.to_dataframe()` method of the results object."
   ]
  },
  {
   "cell_type": "code",
   "execution_count": 4,
   "metadata": {
    "collapsed": false,
    "deletable": true,
    "editable": true
   },
   "outputs": [
    {
     "data": {
      "text/html": [
       "<div>\n",
       "<table border=\"1\" class=\"dataframe\">\n",
       "  <thead>\n",
       "    <tr style=\"text-align: right;\">\n",
       "      <th></th>\n",
       "      <th>JobTitle</th>\n",
       "      <th>avg_salary</th>\n",
       "      <th>number</th>\n",
       "    </tr>\n",
       "  </thead>\n",
       "  <tbody>\n",
       "    <tr>\n",
       "      <th>0</th>\n",
       "      <td>STATE'S ATTORNEY</td>\n",
       "      <td>238772.0</td>\n",
       "      <td>1</td>\n",
       "    </tr>\n",
       "    <tr>\n",
       "      <th>1</th>\n",
       "      <td>Police Commissioner</td>\n",
       "      <td>200000.0</td>\n",
       "      <td>1</td>\n",
       "    </tr>\n",
       "    <tr>\n",
       "      <th>2</th>\n",
       "      <td>Executive Director V</td>\n",
       "      <td>182500.0</td>\n",
       "      <td>1</td>\n",
       "    </tr>\n",
       "    <tr>\n",
       "      <th>3</th>\n",
       "      <td>MAYOR</td>\n",
       "      <td>171635.0</td>\n",
       "      <td>1</td>\n",
       "    </tr>\n",
       "    <tr>\n",
       "      <th>4</th>\n",
       "      <td>Executive Director III</td>\n",
       "      <td>171306.5</td>\n",
       "      <td>10</td>\n",
       "    </tr>\n",
       "  </tbody>\n",
       "</table>\n",
       "</div>"
      ],
      "text/plain": [
       "                 JobTitle avg_salary number\n",
       "0        STATE'S ATTORNEY   238772.0      1\n",
       "1     Police Commissioner   200000.0      1\n",
       "2    Executive Director V   182500.0      1\n",
       "3                   MAYOR   171635.0      1\n",
       "4  Executive Director III   171306.5     10"
      ]
     },
     "execution_count": 4,
     "metadata": {},
     "output_type": "execute_result"
    }
   ],
   "source": [
    "df = query_result.to_dataframe()\n",
    "df.head()"
   ]
  },
  {
   "cell_type": "markdown",
   "metadata": {
    "deletable": true,
    "editable": true
   },
   "source": [
    "## In Class Exercise:\n",
    "Using the data in the `dailybots.csv` file use Drill to:\n",
    "1.  Query the file to produce a summary of infections by day.\n",
    "2.  Store this data in a dataframe using the `to_dataframe()` method.\n",
    "3.  Create a line plot of this data by calling the .plot() method on the dataframe\n",
    "\n",
    "In order to render the plot, you will need to convert the column containing the numeric field into a numeric data type. The command below converts a column called `bot_count` to a floating point number which can be rendered in a line chart.\n",
    "```python\n",
    "df.bot_count = df.bot_count.astype(float)\n",
    "```\n",
    "\n",
    "If you are unfamiliar with pandas and the corresponding plotting libraries, the documentation is available here: http://pandas.pydata.org/pandas-docs/stable/generated/pandas.DataFrame.plot.html."
   ]
  },
  {
   "cell_type": "code",
   "execution_count": null,
   "metadata": {
    "collapsed": true,
    "deletable": true,
    "editable": true
   },
   "outputs": [],
   "source": []
  }
 ],
 "metadata": {
  "anaconda-cloud": {},
  "kernelspec": {
   "display_name": "Python [default]",
   "language": "python",
   "name": "python3"
  },
  "language_info": {
   "codemirror_mode": {
    "name": "ipython",
    "version": 3
   },
   "file_extension": ".py",
   "mimetype": "text/x-python",
   "name": "python",
   "nbconvert_exporter": "python",
   "pygments_lexer": "ipython3",
   "version": "3.5.3"
  }
 },
 "nbformat": 4,
 "nbformat_minor": 0
}
